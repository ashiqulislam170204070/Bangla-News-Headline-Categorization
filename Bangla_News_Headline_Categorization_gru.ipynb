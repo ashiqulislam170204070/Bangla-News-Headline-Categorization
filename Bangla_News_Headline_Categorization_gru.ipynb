{
  "cells": [
    {
      "cell_type": "code",
      "execution_count": null,
      "metadata": {
        "id": "IShcU1LC1dS4"
      },
      "outputs": [],
      "source": [
        "import numpy as np\n",
        "import matplotlib.pyplot as plt\n",
        "%matplotlib inline\n",
        "import pandas as pd\n",
        "import seaborn as sns\n",
        "import re,nltk,json\n",
        "import tensorflow as tf\n",
        "from tensorflow import keras\n",
        "from tensorflow.keras import regularizers\n",
        "from tensorflow.keras.preprocessing.sequence import pad_sequences\n",
        "from keras import models\n",
        "from keras import layers\n",
        "from tensorflow.keras.layers import LSTM,GRU\n",
        "from tensorflow.keras.models import load_model\n",
        "from sklearn.metrics import confusion_matrix\n",
        "from sklearn.metrics import classification_report\n",
        "from sklearn.model_selection import train_test_split\n",
        "from sklearn.metrics import accuracy_score,precision_score,recall_score,f1_score,roc_auc_score\n",
        "from sklearn.metrics import average_precision_score,roc_auc_score, roc_curve, precision_recall_curve\n",
        "from sklearn.preprocessing import LabelEncoder\n",
        "from tensorflow.keras.preprocessing.text import Tokenizer\n",
        "np.random.seed(42)\n",
        "class color: # Text style\n",
        "   PURPLE = '\\033[95m'\n",
        "   CYAN = '\\033[96m'\n",
        "   DARKCYAN = '\\033[36m'\n",
        "   BLUE = '\\033[94m'\n",
        "   GREEN = '\\033[92m'\n",
        "   YELLOW = '\\033[93m'\n",
        "   RED = '\\033[91m'\n",
        "   BOLD = '\\033[1m'\n",
        "   UNDERLINE = '\\033[4m'\n",
        "   END = '\\033[0m'"
      ]
    },
    {
      "cell_type": "code",
      "source": [
        "#Stop Words\n",
        "!gdown --id 1rgoshfz_7xuS3HwE2vM-F-G0TI_O5kgg\n",
        "\n",
        "StopWords = open('/content/StopWords.txt',\"r\").read().split('\\n')\n",
        "print(StopWords)"
      ],
      "metadata": {
        "colab": {
          "base_uri": "https://localhost:8080/"
        },
        "id": "PjVItR8rpmKC",
        "outputId": "d63653bf-fabd-45fa-e837-c9a6d69ff65d"
      },
      "execution_count": null,
      "outputs": [
        {
          "output_type": "stream",
          "name": "stdout",
          "text": [
            "Downloading...\n",
            "From: https://drive.google.com/uc?id=1rgoshfz_7xuS3HwE2vM-F-G0TI_O5kgg\n",
            "To: /content/StopWords.txt\n",
            "\r  0% 0.00/5.21k [00:00<?, ?B/s]\r100% 5.21k/5.21k [00:00<00:00, 9.70MB/s]\n",
            "['অবশ্য', 'অনেক', 'অনেকে', 'অনেকেই', 'অন্তত', 'অথবা', 'অথচ', 'অর্থাত', 'অন্য', 'আজ', 'আছে', 'আপনার', 'আপনি', 'আবার', 'আমরা', 'আমাকে', 'আমাদের', 'আমার', 'আমি', 'আরও', 'আর', 'আগে', 'আগেই', 'আই', 'অতএব', 'আগামী', 'অবধি', 'অনুযায়ী', 'আদ্যভাগে', 'এই', 'একই', 'একে', 'একটি', 'এখন', 'এখনও', 'এখানে', 'এখানেই', 'এটি', 'এটা', 'এটাই', 'এতটাই', 'এবং', 'একবার', 'এবার', 'এদের', 'এঁদের', 'এমন', 'এমনকী', 'এল', 'এর', 'এরা', 'এঁরা', 'এস', 'এত', 'এতে', 'এসে', 'একে', 'এ', 'ঐ', ' ই', 'ইহা', 'ইত্যাদি', 'উনি', 'উপর', 'উপরে', 'উচিত', 'ও', 'ওই', 'ওর', 'ওরা', 'ওঁর', 'ওঁরা', 'ওকে', 'ওদের', 'ওঁদের', 'ওখানে', 'কত', 'কবে', 'করতে', 'কয়েক', 'কয়েকটি', 'করবে', 'করলেন', 'করার', 'কারও', 'করা', 'করি', 'করিয়ে', 'করার', 'করাই', 'করলে', 'করলেন', 'করিতে', 'করিয়া', 'করেছিলেন', 'করছে', 'করছেন', 'করেছেন', 'করেছে', 'করেন', 'করবেন', 'করায়', 'করে', 'করেই', 'কাছ', 'কাছে', 'কাজে', 'কারণ', 'কিছু', 'কিছুই', 'কিন্তু', 'কিংবা', 'কি', 'কী', 'কেউ', 'কেউই', 'কাউকে', 'কেন', 'কে', 'কোনও', 'কোনো', 'কোন', 'কখনও', 'ক্ষেত্রে', 'খুব\\tগুলি', 'গিয়ে', 'গিয়েছে', 'গেছে', 'গেল', 'গেলে', 'গোটা', 'চলে', 'ছাড়া', 'ছাড়াও', 'ছিলেন', 'ছিল', 'জন্য', 'জানা', 'ঠিক', 'তিনি', 'তিনঐ', 'তিনিও', 'তখন', 'তবে', 'তবু', 'তাঁদের', 'তাঁাহারা', 'তাঁরা', 'তাঁর', 'তাঁকে', 'তাই', 'তেমন', 'তাকে', 'তাহা', 'তাহাতে', 'তাহার', 'তাদের', 'তারপর', 'তারা', 'তারৈ', 'তার', 'তাহলে', 'তিনি', 'তা', 'তাও', 'তাতে', 'তো', 'তত', 'তুমি', 'তোমার', 'তথা', 'থাকে', 'থাকা', 'থাকায়', 'থেকে', 'থেকেও', 'থাকবে', 'থাকেন', 'থাকবেন', 'থেকেই', 'দিকে', 'দিতে', 'দিয়ে', 'দিয়েছে', 'দিয়েছেন', 'দিলেন', 'দু', 'দুটি', 'দুটো', 'দেয়', 'দেওয়া', 'দেওয়ার', 'দেখা', 'দেখে', 'দেখতে', 'দ্বারা', 'ধরে', 'ধরা', 'নয়', 'নানা', 'না', 'নাকি', 'নাগাদ', 'নিতে', 'নিজে', 'নিজেই', 'নিজের', 'নিজেদের', 'নিয়ে', 'নেওয়া', 'নেওয়ার', 'নেই', 'নাই', 'পক্ষে', 'পর্যন্ত', 'পাওয়া', 'পারেন', 'পারি', 'পারে', 'পরে', 'পরেই', 'পরেও', 'পর', 'পেয়ে', 'প্রতি', 'প্রভৃতি', 'প্রায়', 'ফের', 'ফলে', 'ফিরে', 'ব্যবহার', 'বলতে', 'বললেন', 'বলেছেন', 'বলল', 'বলা', 'বলেন', 'বলে', 'বহু', 'বসে', 'বার', 'বা', 'বিনা', 'বরং', 'বদলে', 'বাদে', 'বার', 'বিশেষ', 'বিভিন্ন\\tবিষয়টি', 'ব্যবহার', 'ব্যাপারে', 'ভাবে', 'ভাবেই', 'মধ্যে', 'মধ্যেই', 'মধ্যেও', 'মধ্যভাগে', 'মাধ্যমে', 'মাত্র', 'মতো', 'মতোই', 'মোটেই', 'যখন', 'যদি', 'যদিও', 'যাবে', 'যায়', 'যাকে', 'যাওয়া', 'যাওয়ার', 'যত', 'যতটা', 'যা', 'যার', 'যারা', 'যাঁর', 'যাঁরা', 'যাদের', 'যান', 'যাচ্ছে', 'যেতে', 'যাতে', 'যেন', 'যেমন', 'যেখানে', 'যিনি', 'যে', 'রেখে', 'রাখা', 'রয়েছে', 'রকম', 'শুধু', 'সঙ্গে', 'সঙ্গেও', 'সমস্ত', 'সব', 'সবার', 'সহ', 'সুতরাং', 'সহিত', 'সেই', 'সেটা', 'সেটি', 'সেটাই', 'সেটাও', 'সম্প্রতি', 'সেখান', 'সেখানে', 'সে', 'স্পষ্ট', 'স্বয়ং', 'হইতে', 'হইবে', 'হৈলে', 'হইয়া', 'হচ্ছে', 'হত', 'হতে', 'হতেই', 'হবে', 'হবেন', 'হয়েছিল', 'হয়েছে', 'হয়েছেন', 'হয়ে', 'হয়নি', 'হয়', 'হয়েই', 'হয়তো', 'হল', 'হলে', 'হলেই', 'হলেও', 'হলো', 'হিসাবে', 'হওয়া', 'হওয়ার', 'হওয়ায়', 'হন', 'হোক', 'জন', 'জনকে', 'জনের', 'জানতে', 'জানায়', 'জানিয়ে', 'জানানো', 'জানিয়েছে', 'জন্য', 'জন্যওজে', 'জে', 'বেশ', 'দেন', 'তুলে', 'ছিলেন', 'চান', 'চায়', 'চেয়ে', 'মোট', 'যথেষ্ট', 'টি']\n"
          ]
        }
      ]
    },
    {
      "cell_type": "code",
      "execution_count": null,
      "metadata": {
        "colab": {
          "base_uri": "https://localhost:8080/",
          "height": 497
        },
        "id": "jg-w4fm0D0aB",
        "outputId": "5a4ac2fb-75d3-459d-be87-319ba942c5e9"
      },
      "outputs": [
        {
          "output_type": "stream",
          "name": "stdout",
          "text": [
            "Downloading...\n",
            "From: https://drive.google.com/uc?id=1h71URr5OdG_q0CbOGiT3Uku83zRwwbsE\n",
            "To: /content/headlines2.csv\n",
            "100% 14.6M/14.6M [00:00<00:00, 61.8MB/s]\n"
          ]
        },
        {
          "output_type": "execute_result",
          "data": {
            "text/html": [
              "\n",
              "  <div id=\"df-2ab97d88-0964-4c32-a6fd-5ebc41c63646\">\n",
              "    <div class=\"colab-df-container\">\n",
              "      <div>\n",
              "<style scoped>\n",
              "    .dataframe tbody tr th:only-of-type {\n",
              "        vertical-align: middle;\n",
              "    }\n",
              "\n",
              "    .dataframe tbody tr th {\n",
              "        vertical-align: top;\n",
              "    }\n",
              "\n",
              "    .dataframe thead th {\n",
              "        text-align: right;\n",
              "    }\n",
              "</style>\n",
              "<table border=\"1\" class=\"dataframe\">\n",
              "  <thead>\n",
              "    <tr style=\"text-align: right;\">\n",
              "      <th></th>\n",
              "      <th>headline</th>\n",
              "      <th>category</th>\n",
              "      <th>newspaper name</th>\n",
              "    </tr>\n",
              "  </thead>\n",
              "  <tbody>\n",
              "    <tr>\n",
              "      <th>0</th>\n",
              "      <td>মাদারীপুরে নদীতে গোসল করতে গিয়ে শিশুর মৃত্যু</td>\n",
              "      <td>bangladesh</td>\n",
              "      <td>BDProtidin</td>\n",
              "    </tr>\n",
              "    <tr>\n",
              "      <th>1</th>\n",
              "      <td>আখাউড়া ইমিগ্রেশন দিয়ে ভারত থেকে আগত ১৪ যাত্রী ...</td>\n",
              "      <td>bangladesh</td>\n",
              "      <td>BDProtidin</td>\n",
              "    </tr>\n",
              "    <tr>\n",
              "      <th>2</th>\n",
              "      <td>অবৈধ বিক্রি বন্ধে বালুর স্তুপ নিলামে তুললেন ইউএনও</td>\n",
              "      <td>bangladesh</td>\n",
              "      <td>BDProtidin</td>\n",
              "    </tr>\n",
              "    <tr>\n",
              "      <th>3</th>\n",
              "      <td>গরু চুরির অভিযোগে যুবককে নির্যাতন, ইউপি সদস্য ...</td>\n",
              "      <td>bangladesh</td>\n",
              "      <td>BDProtidin</td>\n",
              "    </tr>\n",
              "    <tr>\n",
              "      <th>4</th>\n",
              "      <td>নন্দীগ্রামে খালেদা জিয়ার রোগমুক্তি কামনায় মসজি...</td>\n",
              "      <td>bangladesh</td>\n",
              "      <td>BDProtidin</td>\n",
              "    </tr>\n",
              "    <tr>\n",
              "      <th>...</th>\n",
              "      <td>...</td>\n",
              "      <td>...</td>\n",
              "      <td>...</td>\n",
              "    </tr>\n",
              "    <tr>\n",
              "      <th>103868</th>\n",
              "      <td>ব্লকচেইন নিয়ে সেমিনার করল বিসিএস</td>\n",
              "      <td>it</td>\n",
              "      <td>jugantor</td>\n",
              "    </tr>\n",
              "    <tr>\n",
              "      <th>103869</th>\n",
              "      <td>উবারের দক্ষিণ এশিয়ার প্রেসিডেন্ট হলেন প্রভজিৎ সিং</td>\n",
              "      <td>it</td>\n",
              "      <td>jugantor</td>\n",
              "    </tr>\n",
              "    <tr>\n",
              "      <th>103870</th>\n",
              "      <td>এই ঈদে বিরাট হাট বসছে ‘দেশীগরু বিডিডটকমে’</td>\n",
              "      <td>it</td>\n",
              "      <td>jugantor</td>\n",
              "    </tr>\n",
              "    <tr>\n",
              "      <th>103871</th>\n",
              "      <td>প্রবাসীরাও পশু অর্ডার করতে পারবেন অনলাইন হাটে</td>\n",
              "      <td>it</td>\n",
              "      <td>jugantor</td>\n",
              "    </tr>\n",
              "    <tr>\n",
              "      <th>103872</th>\n",
              "      <td>বিনামূল্যে প্রশিক্ষণ পাবেন পাঁচ হাজার জন</td>\n",
              "      <td>it</td>\n",
              "      <td>jugantor</td>\n",
              "    </tr>\n",
              "  </tbody>\n",
              "</table>\n",
              "<p>103873 rows × 3 columns</p>\n",
              "</div>\n",
              "      <button class=\"colab-df-convert\" onclick=\"convertToInteractive('df-2ab97d88-0964-4c32-a6fd-5ebc41c63646')\"\n",
              "              title=\"Convert this dataframe to an interactive table.\"\n",
              "              style=\"display:none;\">\n",
              "        \n",
              "  <svg xmlns=\"http://www.w3.org/2000/svg\" height=\"24px\"viewBox=\"0 0 24 24\"\n",
              "       width=\"24px\">\n",
              "    <path d=\"M0 0h24v24H0V0z\" fill=\"none\"/>\n",
              "    <path d=\"M18.56 5.44l.94 2.06.94-2.06 2.06-.94-2.06-.94-.94-2.06-.94 2.06-2.06.94zm-11 1L8.5 8.5l.94-2.06 2.06-.94-2.06-.94L8.5 2.5l-.94 2.06-2.06.94zm10 10l.94 2.06.94-2.06 2.06-.94-2.06-.94-.94-2.06-.94 2.06-2.06.94z\"/><path d=\"M17.41 7.96l-1.37-1.37c-.4-.4-.92-.59-1.43-.59-.52 0-1.04.2-1.43.59L10.3 9.45l-7.72 7.72c-.78.78-.78 2.05 0 2.83L4 21.41c.39.39.9.59 1.41.59.51 0 1.02-.2 1.41-.59l7.78-7.78 2.81-2.81c.8-.78.8-2.07 0-2.86zM5.41 20L4 18.59l7.72-7.72 1.47 1.35L5.41 20z\"/>\n",
              "  </svg>\n",
              "      </button>\n",
              "      \n",
              "  <style>\n",
              "    .colab-df-container {\n",
              "      display:flex;\n",
              "      flex-wrap:wrap;\n",
              "      gap: 12px;\n",
              "    }\n",
              "\n",
              "    .colab-df-convert {\n",
              "      background-color: #E8F0FE;\n",
              "      border: none;\n",
              "      border-radius: 50%;\n",
              "      cursor: pointer;\n",
              "      display: none;\n",
              "      fill: #1967D2;\n",
              "      height: 32px;\n",
              "      padding: 0 0 0 0;\n",
              "      width: 32px;\n",
              "    }\n",
              "\n",
              "    .colab-df-convert:hover {\n",
              "      background-color: #E2EBFA;\n",
              "      box-shadow: 0px 1px 2px rgba(60, 64, 67, 0.3), 0px 1px 3px 1px rgba(60, 64, 67, 0.15);\n",
              "      fill: #174EA6;\n",
              "    }\n",
              "\n",
              "    [theme=dark] .colab-df-convert {\n",
              "      background-color: #3B4455;\n",
              "      fill: #D2E3FC;\n",
              "    }\n",
              "\n",
              "    [theme=dark] .colab-df-convert:hover {\n",
              "      background-color: #434B5C;\n",
              "      box-shadow: 0px 1px 3px 1px rgba(0, 0, 0, 0.15);\n",
              "      filter: drop-shadow(0px 1px 2px rgba(0, 0, 0, 0.3));\n",
              "      fill: #FFFFFF;\n",
              "    }\n",
              "  </style>\n",
              "\n",
              "      <script>\n",
              "        const buttonEl =\n",
              "          document.querySelector('#df-2ab97d88-0964-4c32-a6fd-5ebc41c63646 button.colab-df-convert');\n",
              "        buttonEl.style.display =\n",
              "          google.colab.kernel.accessAllowed ? 'block' : 'none';\n",
              "\n",
              "        async function convertToInteractive(key) {\n",
              "          const element = document.querySelector('#df-2ab97d88-0964-4c32-a6fd-5ebc41c63646');\n",
              "          const dataTable =\n",
              "            await google.colab.kernel.invokeFunction('convertToInteractive',\n",
              "                                                     [key], {});\n",
              "          if (!dataTable) return;\n",
              "\n",
              "          const docLinkHtml = 'Like what you see? Visit the ' +\n",
              "            '<a target=\"_blank\" href=https://colab.research.google.com/notebooks/data_table.ipynb>data table notebook</a>'\n",
              "            + ' to learn more about interactive tables.';\n",
              "          element.innerHTML = '';\n",
              "          dataTable['output_type'] = 'display_data';\n",
              "          await google.colab.output.renderOutput(dataTable, element);\n",
              "          const docLink = document.createElement('div');\n",
              "          docLink.innerHTML = docLinkHtml;\n",
              "          element.appendChild(docLink);\n",
              "        }\n",
              "      </script>\n",
              "    </div>\n",
              "  </div>\n",
              "  "
            ],
            "text/plain": [
              "                                                 headline    category  \\\n",
              "0            মাদারীপুরে নদীতে গোসল করতে গিয়ে শিশুর মৃত্যু  bangladesh   \n",
              "1       আখাউড়া ইমিগ্রেশন দিয়ে ভারত থেকে আগত ১৪ যাত্রী ...  bangladesh   \n",
              "2       অবৈধ বিক্রি বন্ধে বালুর স্তুপ নিলামে তুললেন ইউএনও  bangladesh   \n",
              "3       গরু চুরির অভিযোগে যুবককে নির্যাতন, ইউপি সদস্য ...  bangladesh   \n",
              "4       নন্দীগ্রামে খালেদা জিয়ার রোগমুক্তি কামনায় মসজি...  bangladesh   \n",
              "...                                                   ...         ...   \n",
              "103868                   ব্লকচেইন নিয়ে সেমিনার করল বিসিএস          it   \n",
              "103869  উবারের দক্ষিণ এশিয়ার প্রেসিডেন্ট হলেন প্রভজিৎ সিং          it   \n",
              "103870          এই ঈদে বিরাট হাট বসছে ‘দেশীগরু বিডিডটকমে’          it   \n",
              "103871      প্রবাসীরাও পশু অর্ডার করতে পারবেন অনলাইন হাটে          it   \n",
              "103872           বিনামূল্যে প্রশিক্ষণ পাবেন পাঁচ হাজার জন          it   \n",
              "\n",
              "       newspaper name  \n",
              "0          BDProtidin  \n",
              "1          BDProtidin  \n",
              "2          BDProtidin  \n",
              "3          BDProtidin  \n",
              "4          BDProtidin  \n",
              "...               ...  \n",
              "103868       jugantor  \n",
              "103869       jugantor  \n",
              "103870       jugantor  \n",
              "103871       jugantor  \n",
              "103872       jugantor  \n",
              "\n",
              "[103873 rows x 3 columns]"
            ]
          },
          "metadata": {},
          "execution_count": 26
        }
      ],
      "source": [
        "!gdown --id 1h71URr5OdG_q0CbOGiT3Uku83zRwwbsE\n",
        "data = pd.read_csv('/content/headlines2.csv',encoding='utf-8')\n",
        "data"
      ]
    },
    {
      "cell_type": "code",
      "execution_count": null,
      "metadata": {
        "colab": {
          "base_uri": "https://localhost:8080/",
          "height": 360
        },
        "id": "NMOl0mEpIKaH",
        "outputId": "d2793306-d323-4200-c3e8-3834fc28aa45"
      },
      "outputs": [
        {
          "output_type": "stream",
          "name": "stdout",
          "text": [
            "Total number of headlines: 103873\n"
          ]
        },
        {
          "output_type": "display_data",
          "data": {
            "image/png": "[encoded data removed]",
            "text/plain": [
              "<Figure size 432x288 with 1 Axes>"
            ]
          },
          "metadata": {}
        }
      ],
      "source": [
        "print(f'Total number of headlines: {len(data)}')\n",
        "sns.set(font_scale=1.4)\n",
        "data['category'].value_counts().plot(kind='barh', figsize=(6, 4))\n",
        "plt.xlabel(\"Number of Headlines\", labelpad=12)\n",
        "plt.ylabel(\"Category\", labelpad=12)\n",
        "plt.yticks(rotation = 45)\n",
        "plt.title(\"Dataset Distribution\", y=1.02);"
      ]
    },
    {
      "cell_type": "code",
      "execution_count": null,
      "metadata": {
        "colab": {
          "base_uri": "https://localhost:8080/"
        },
        "id": "Ey3Rjl6UIVXV",
        "outputId": "a4fa76be-9852-430e-966b-9c76c673e709"
      },
      "outputs": [
        {
          "output_type": "execute_result",
          "data": {
            "text/plain": [
              "Index(['headline', 'category', 'newspaper name'], dtype='object')"
            ]
          },
          "metadata": {},
          "execution_count": 28
        }
      ],
      "source": [
        "data.columns"
      ]
    },
    {
      "cell_type": "code",
      "execution_count": null,
      "metadata": {
        "colab": {
          "base_uri": "https://localhost:8080/"
        },
        "id": "r4xAav2bIWXe",
        "outputId": "b92c0834-5014-407b-a814-9132a86e4991"
      },
      "outputs": [
        {
          "output_type": "stream",
          "name": "stdout",
          "text": [
            "Original:  পদ্মায় ১৪ কেজির রুই, দাম ৩৫ হাজার ৭৫০! \n",
            "Cleaned: পদ্মায় ১৪ কেজির রুই  দাম ৩৫ হাজার ৭৫০  \n",
            " Category:-->  bangladesh \n",
            "\n",
            "Original:  বাংলাদেশের পাখি  \n",
            "Cleaned: বাংলাদেশের পাখি  \n",
            " Category:-->  editors \n",
            "\n",
            "Original:  মানবপাচার রোধে বাংলাদেশের জিরো টলারেন্স নীতি গ্রহণ \n",
            "Cleaned: মানবপাচার রোধে বাংলাদেশের জিরো টলারেন্স নীতি গ্রহণ \n",
            " Category:-->  international \n",
            "\n",
            "Original:  বগুড়ার সংঘর্ষে সাংবাদিকসহ আহত ৭ \n",
            "Cleaned: বগুড়ার সংঘর্ষে সাংবাদিকসহ আহত ৭ \n",
            " Category:-->  bangladesh \n",
            "\n",
            "Original:  স্ত্রী-সন্তানসহ করোনায় আক্রান্ত আজিজুল হাকিম \n",
            "Cleaned: স্ত্রী সন্তানসহ করোনায় আক্রান্ত আজিজুল হাকিম \n",
            " Category:-->  entertainment \n",
            "\n",
            "Original:  ৭০ জন পুলিশ সদস্যকে নিজের হাতে রান্না করে খাওয়ালেন নিপুণ! \n",
            "Cleaned: ৭০ জন পুলিশ সদস্যকে নিজের হাতে রান্না করে খাওয়ালেন নিপুণ  \n",
            " Category:-->  entertainment \n",
            "\n",
            "Original:  সিনেমায় চুমুর দৃশ্য, বিয়ে ভাঙলো নায়িকার \n",
            "Cleaned: সিনেমায় চুমুর দৃশ্য  বিয়ে ভাঙলো নায়িকার \n",
            " Category:-->  entertainment \n",
            "\n",
            "Original:  দ্বিতীয় মৌসুম নিয়ে ফিরছে ‘স্যাক্রেড গেইমস’ \n",
            "Cleaned: দ্বিতীয় মৌসুম নিয়ে ফিরছে  স্যাক্রেড গেইমস  \n",
            " Category:-->  entertainment \n",
            "\n",
            "Original:  অভিভাবকহারা হলাম- ফেরদৌস \n",
            "Cleaned: অভিভাবকহারা হলাম  ফেরদৌস \n",
            " Category:-->  entertainment \n",
            "\n",
            "Original:  আর্মেনীয় হত্যাকাণ্ডকে ‘গণহত্যার’ স্বীকৃতি দিল যুক্তরাষ্ট্র \n",
            "Cleaned: আর্মেনীয় হত্যাকাণ্ডকে  গণহত্যার  স্বীকৃতি দিল যুক্তরাষ্ট্র \n",
            " Category:-->  international \n",
            "\n",
            "Original:  অবশেষে পাকিস্তানের সেনাপ্রধানের মেয়াদ বাড়ল \n",
            "Cleaned: অবশেষে পাকিস্তানের সেনাপ্রধানের মেয়াদ বাড়ল \n",
            " Category:-->  islam \n",
            "\n",
            "Original:  তবুও চলবে চার হাজার কোটির আইপিএল! \n",
            "Cleaned: তবুও চলবে চার হাজার কোটির আইপিএল  \n",
            " Category:-->  national \n",
            "\n",
            "Original:  অনলাইন শুটিংয়ে শাকিল অষ্টম, দিশা সপ্তম \n",
            "Cleaned: অনলাইন শুটিংয়ে শাকিল অষ্টম  দিশা সপ্তম \n",
            " Category:-->  sports \n",
            "\n",
            "Original:  বগুড়ায় ছাত্রলীগের দুপক্ষের সংঘর্ষ আহত ৮ \n",
            "Cleaned: বগুড়ায় ছাত্রলীগের দুপক্ষের সংঘর্ষ আহত ৮ \n",
            " Category:-->  bangladesh \n",
            "\n",
            "Original:  আল্লামা শফী: পদ থেকে সরে যাওয়ার একদিন পরই মৃত্যু \n",
            "Cleaned: আল্লামা শফী  পদ থেকে সরে যাওয়ার একদিন পরই মৃত্যু \n",
            " Category:-->  national \n",
            "\n"
          ]
        }
      ],
      "source": [
        "# Cleaning Data [Remove unncessary symbols]\n",
        "def cleaning_data(row):\n",
        "      headlines = re.sub('[^\\u0980-\\u09FF]',' ',str(row)) #removing unnecessary punctuation\n",
        "      '''ans = \"\"\n",
        "      for item in headlines.split():\n",
        "       if item in StopWords or item==\"\":\n",
        "         continue\n",
        "       ans+= item+\" \"\n",
        "      return ans.lstrip()'''\n",
        "      return headlines\n",
        "# Apply the function into the dataframe\n",
        "data['cleaned'] = data['headline'].apply(cleaning_data)\n",
        "\n",
        "# print some cleaned reviews from the dataset\n",
        "sample_data = [2000,5000,10000,20000,30000,35000,40000,45000,50000,60000,65000,70000,75000,80000,100000]\n",
        "for i in sample_data:\n",
        "  print('Original: ',data.headline[i],'\\nCleaned:',\n",
        "           data.cleaned[i],'\\n','Category:--> ',data.category[i],'\\n')"
      ]
    },
    {
      "cell_type": "code",
      "execution_count": null,
      "metadata": {
        "colab": {
          "base_uri": "https://localhost:8080/"
        },
        "id": "A1BhbVrCcMAf",
        "outputId": "9e7f61a6-24fa-4c1e-968c-27bc5b3fbcee"
      },
      "outputs": [
        {
          "output_type": "stream",
          "name": "stdout",
          "text": [
            "After Cleaning: \n",
            "Removed 1247 Small Headlines \n",
            "Total Headlines: 102626\n"
          ]
        }
      ],
      "source": [
        "# Length of each headlines\n",
        "data['length'] = data['cleaned'].apply(lambda x:len(x.split()))\n",
        "# Remove the headlines with least words\n",
        "dataset = data.loc[data.length>2]\n",
        "dataset = dataset.reset_index(drop = True)\n",
        "print(\"After Cleaning:\",\"\\nRemoved {} Small Headlines\".format(len(data)-len(dataset)),\n",
        "      \"\\nTotal Headlines:\",len(dataset))"
      ]
    },
    {
      "cell_type": "code",
      "execution_count": null,
      "metadata": {
        "colab": {
          "base_uri": "https://localhost:8080/"
        },
        "id": "O3JLVWtOcMAh",
        "outputId": "4e9e1c41-701d-4df6-8100-0e5ae037b083"
      },
      "outputs": [
        {
          "output_type": "stream",
          "name": "stdout",
          "text": [
            "\n",
            "Class Name :  entertainment\n",
            "Number of Documents:33717\n",
            "Number of Words:213598\n",
            "Number of Unique Words:19121\n",
            "Most Frequent Words:\n",
            "\n",
            "নতুন\t2588\n",
            "নিয়ে\t2288\n",
            "ও\t1802\n",
            "গান\t1381\n",
            "খান\t1074\n",
            "না\t1015\n",
            "র\t1012\n",
            "নাটক\t890\n",
            "মুক্তি\t844\n",
            "চলচ্চিত্র\t838\n",
            "\n",
            "Class Name :  bangladesh\n",
            "Number of Documents:18665\n",
            "Number of Words:131368\n",
            "Number of Unique Words:14722\n",
            "Most Frequent Words:\n",
            "\n",
            "মৃত্যু\t1126\n",
            "নিহত\t1041\n",
            "গ্রেফতার\t976\n",
            "আটক\t891\n",
            "ও\t830\n",
            "২\t686\n",
            "লাশ\t671\n",
            "উদ্ধার\t659\n",
            "থেকে\t622\n",
            "আহত\t615\n",
            "\n",
            "Class Name :  international\n",
            "Number of Documents:17440\n",
            "Number of Words:121582\n",
            "Number of Unique Words:12032\n",
            "Most Frequent Words:\n",
            "\n",
            "মৃত্যু\t2260\n",
            "করোনা\t1883\n",
            "করোনায়\t1337\n",
            "জনের\t1082\n",
            "ভারতের\t1071\n",
            "লাখ\t1066\n",
            "রোগী\t1041\n",
            "ভারতে\t955\n",
            "মার্কিন\t883\n",
            "ও\t870\n",
            "\n",
            "Class Name :  sports\n",
            "Number of Documents:11438\n",
            "Number of Words:67922\n",
            "Number of Unique Words:9048\n",
            "Most Frequent Words:\n",
            "\n",
            "না\t671\n",
            "জয়\t563\n",
            "বাংলাদেশের\t544\n",
            "লিগ\t499\n",
            "তিন\t478\n",
            "ছাড়িয়ে\t463\n",
            "চিঠি\t434\n",
            "ক্লাবের\t433\n",
            "বাফুফেকে\t426\n",
            "অষ্টম\t426\n",
            "\n",
            "Class Name :  national\n",
            "Number of Documents:10800\n",
            "Number of Words:66501\n",
            "Number of Unique Words:12049\n",
            "Most Frequent Words:\n",
            "\n",
            "না\t501\n",
            "ও\t428\n",
            "বাংলাদেশ\t390\n",
            "হবে\t319\n",
            "আরও\t304\n",
            "নিয়ে\t295\n",
            "দেশে\t279\n",
            "শুরু\t274\n",
            "থেকে\t268\n",
            "করোনায়\t258\n",
            "\n",
            "Class Name :  islam\n",
            "Number of Documents:6382\n",
            "Number of Words:40264\n",
            "Number of Unique Words:6508\n",
            "Most Frequent Words:\n",
            "\n",
            "না\t374\n",
            "এরদোগান\t354\n",
            "ও\t337\n",
            "নিহত\t312\n",
            "পাকিস্তান\t274\n",
            "সউদী\t266\n",
            "হবে\t262\n",
            "তুরস্ক\t211\n",
            "পাকিস্তানের\t198\n",
            "হামলা\t190\n",
            "\n",
            "Class Name :  it\n",
            "Number of Documents:2560\n",
            "Number of Words:17131\n",
            "Number of Unique Words:4842\n",
            "Most Frequent Words:\n",
            "\n",
            "নতুন\t200\n",
            "ফেসবুক\t175\n",
            "ও\t110\n",
            "গুগল\t108\n",
            "স্মার্টফোন\t96\n",
            "নিয়ে\t92\n",
            "বন্ধ\t90\n",
            "কোটি\t87\n",
            "থেকে\t87\n",
            "অ্যাপ\t82\n",
            "\n",
            "Class Name :  editors\n",
            "Number of Documents:1624\n",
            "Number of Words:9160\n",
            "Number of Unique Words:3451\n",
            "Most Frequent Words:\n",
            "\n",
            "হবে\t256\n",
            "ও\t180\n",
            "করতে\t99\n",
            "করোনা\t73\n",
            "হোক\t58\n",
            "নয়\t48\n",
            "জরুরি\t46\n",
            "করোনার\t42\n",
            "নিতে\t37\n",
            "ব্যবস্থা\t35\n",
            "Total Number of Unique Words:43661\n"
          ]
        }
      ],
      "source": [
        "\n",
        "def data_summary(dataset):\n",
        "\n",
        "    \"\"\"\n",
        "    This function will print the summary of the headlines and words distribution in the dataset.\n",
        "\n",
        "    Args:\n",
        "        dataset: list of cleaned sentences\n",
        "\n",
        "    Returns:\n",
        "        Number of documnets per class: int\n",
        "        Number of words per class: int\n",
        "        Number of unique words per class: int\n",
        "    \"\"\"\n",
        "    documents = []\n",
        "    words = []\n",
        "    u_words = []\n",
        "    total_u_words = [word.strip().lower() for t in list(dataset.cleaned) for word in t.strip().split()]\n",
        "    class_label= [k for k,v in dataset.category.value_counts().to_dict().items()]\n",
        "  # find word list\n",
        "    for label in class_label:\n",
        "        word_list = [word.strip().lower() for t in list(dataset[dataset.category==label].cleaned) for word in t.strip().split()]\n",
        "        counts = dict()\n",
        "        for word in word_list:\n",
        "                counts[word] = counts.get(word, 0)+1\n",
        "        # sort the dictionary of word list\n",
        "        ordered = sorted(counts.items(), key= lambda item: item[1],reverse = True)\n",
        "        # Documents per class\n",
        "        documents.append(len(list(dataset[dataset.category==label].cleaned)))\n",
        "        # Total Word per class\n",
        "        words.append(len(word_list))\n",
        "        # Unique words per class\n",
        "        u_words.append(len(np.unique(word_list)))\n",
        "\n",
        "        print(\"\\nClass Name : \",label)\n",
        "        print(\"Number of Documents:{}\".format(len(list(dataset[dataset.category==label].cleaned))))\n",
        "        print(\"Number of Words:{}\".format(len(word_list)))\n",
        "        print(\"Number of Unique Words:{}\".format(len(np.unique(word_list))))\n",
        "        print(\"Most Frequent Words:\\n\")\n",
        "        for k,v in ordered[:10]:\n",
        "              print(\"{}\\t{}\".format(k,v))\n",
        "    print(\"Total Number of Unique Words:{}\".format(len(np.unique(total_u_words))))\n",
        "\n",
        "    return documents,words,u_words,class_label\n",
        "\n",
        "#call the fucntion\n",
        "documents,words,u_words,class_names = data_summary(dataset)"
      ]
    },
    {
      "cell_type": "code",
      "execution_count": null,
      "metadata": {
        "colab": {
          "base_uri": "https://localhost:8080/",
          "height": 498
        },
        "id": "Fmw1yqtzcMAp",
        "outputId": "1b94ae44-ada4-4786-a6e1-64f7d6024fa6"
      },
      "outputs": [
        {
          "output_type": "display_data",
          "data": {
            "image/png": "[encoded data removed]",
            "text/plain": [
              "<Figure size 576x432 with 1 Axes>"
            ]
          },
          "metadata": {}
        }
      ],
      "source": [
        "data_matrix = pd.DataFrame({'Total Documents':documents,\n",
        "                            'Total Words':words,\n",
        "                            'Unique Words':u_words,\n",
        "                            'Class Names':class_names})\n",
        "df = pd.melt(data_matrix, id_vars=\"Class Names\", var_name=\"Category\", value_name=\"Values\")\n",
        "plt.figure(figsize=(8, 6))\n",
        "ax = plt.subplot()\n",
        "\n",
        "sns.barplot(data=df,x='Class Names', y='Values' ,hue='Category')\n",
        "ax.set_xlabel('Class Names')\n",
        "ax.set_title('Data Statistics')\n",
        "\n",
        "ax.xaxis.set_ticklabels(class_names, rotation=45);"
      ]
    },
    {
      "cell_type": "code",
      "execution_count": null,
      "metadata": {
        "colab": {
          "base_uri": "https://localhost:8080/",
          "height": 370
        },
        "id": "ng_BP5i4cMAs",
        "outputId": "8d3f7a81-3488-421e-94da-8b5b4c1d4b3e"
      },
      "outputs": [
        {
          "output_type": "display_data",
          "data": {
            "image/png": "[encoded data removed]",
            "text/plain": [
              "<Figure size 432x288 with 1 Axes>"
            ]
          },
          "metadata": {}
        },
        {
          "output_type": "stream",
          "name": "stdout",
          "text": [
            "Maximum Length of a headline: 19\n",
            "Minimum Length of a headline: 3\n",
            "Average Length of a headline: 7.0\n"
          ]
        }
      ],
      "source": [
        "dataset['HeadlineLength'] = dataset.cleaned.apply(lambda x:len(x.split()))\n",
        "frequency = dict()\n",
        "for i in dataset.HeadlineLength:\n",
        "    frequency[i] = frequency.get(i, 0)+1\n",
        "\n",
        "plt.bar(frequency.keys(), frequency.values(), color =\"b\")\n",
        "plt.xlim(1, 20)\n",
        "# in this notbook color is not working but it should work.\n",
        "plt.xlabel('Length of the Headlines')\n",
        "plt.ylabel('Frequency')\n",
        "plt.title('Length-Frequency Distribution')\n",
        "plt.show()\n",
        "print(f\"Maximum Length of a headline: {max(dataset.HeadlineLength)}\")\n",
        "print(f\"Minimum Length of a headline: {min(dataset.HeadlineLength)}\")\n",
        "print(f\"Average Length of a headline: {round(np.mean(dataset.HeadlineLength),0)}\")"
      ]
    },
    {
      "cell_type": "code",
      "execution_count": null,
      "metadata": {
        "id": "3UHSmsV-cMAw"
      },
      "outputs": [],
      "source": [
        "#==================================================\n",
        "                                       ################# Label Encoding Function #########\n",
        "                                       #==================================================\n",
        "\n",
        "def label_encoding(category,bool):\n",
        "    \"\"\"\n",
        "    This function will return the encoded labels in array format.\n",
        "\n",
        "    Args:\n",
        "        category: series of class names(str)\n",
        "        bool: boolean (True or False)\n",
        "\n",
        "    Returns:\n",
        "        labels: numpy array\n",
        "    \"\"\"\n",
        "    le = LabelEncoder()\n",
        "    le.fit(category)\n",
        "    encoded_labels = le.transform(category)\n",
        "    labels = np.array(encoded_labels) # Converting into numpy array\n",
        "    class_names =le.classes_ ## Define the class names again\n",
        "    if bool == True:\n",
        "        print(\"\\n\\t\\t\\t===== Label Encoding =====\",\"\\nClass Names:-->\",le.classes_)\n",
        "        for i in sample_data:\n",
        "            print(category[i],' ', encoded_labels[i],'\\n')\n",
        "\n",
        "    return labels\n",
        "\n",
        "\n",
        "\n",
        "                           #===========================================================\n",
        "                           ################# Dataset Splitting Function ###############\n",
        "                           #===========================================================\n",
        "\n",
        "def dataset_split(headlines,category):\n",
        "    \"\"\"\n",
        "    This function will return the splitted (90%-10%-10%) feature vector .\n",
        "\n",
        "    Args:\n",
        "        headlines: sequenced headlines\n",
        "        category: encoded lables (array)\n",
        "\n",
        "    Returns:\n",
        "        X_train: training data\n",
        "        X_valid: validation data\n",
        "        X_test : testing feature vector\n",
        "        y_train: training encoded labels (array)\n",
        "        y_valid: training encoded labels (array)\n",
        "        y_test : testing encoded labels (array)\n",
        "    \"\"\"\n",
        "\n",
        "    X,X_test,y,y_test = train_test_split(headlines,category,train_size = 0.9,\n",
        "                                                  test_size = 0.1,random_state =0)\n",
        "    X_train,X_valid,y_train,y_valid = train_test_split(X,y,train_size = 0.8,\n",
        "                                                  test_size = 0.2,random_state =0)\n",
        "    print(color.BOLD+\"\\nDataset Distribution:\\n\"+color.END)\n",
        "    print(\"\\tSet Name\",\"\\t\\tSize\")\n",
        "    print(\"\\t========\\t\\t======\")\n",
        "\n",
        "    print(\"\\tFull\\t\\t\\t\",len(headlines),\n",
        "        \"\\n\\tTraining\\t\\t\",len(X_train),\n",
        "        \"\\n\\tTest\\t\\t\\t\",len(X_test),\n",
        "        \"\\n\\tValidation\\t\\t\",len(X_valid))\n",
        "\n",
        "    return X_train,X_valid,X_test,y_train,y_valid,y_test"
      ]
    },
    {
      "cell_type": "code",
      "execution_count": null,
      "metadata": {
        "colab": {
          "base_uri": "https://localhost:8080/"
        },
        "id": "C0eq1uqRcMA0",
        "outputId": "3cdd6493-446e-498b-d8f5-c3fa9d2f96c3"
      },
      "outputs": [
        {
          "output_type": "stream",
          "name": "stdout",
          "text": [
            "\n",
            "\t\t\t===== Label Encoding ===== \n",
            "Class Names:--> ['bangladesh' 'editors' 'entertainment' 'international' 'islam' 'it'\n",
            " 'national' 'sports']\n",
            "bangladesh   0 \n",
            "\n",
            "entertainment   2 \n",
            "\n",
            "international   3 \n",
            "\n",
            "bangladesh   0 \n",
            "\n",
            "entertainment   2 \n",
            "\n",
            "entertainment   2 \n",
            "\n",
            "entertainment   2 \n",
            "\n",
            "entertainment   2 \n",
            "\n",
            "entertainment   2 \n",
            "\n",
            "international   3 \n",
            "\n",
            "islam   4 \n",
            "\n",
            "national   6 \n",
            "\n",
            "sports   7 \n",
            "\n",
            "bangladesh   0 \n",
            "\n",
            "sports   7 \n",
            "\n"
          ]
        }
      ],
      "source": [
        "labels = label_encoding(dataset.category,True)\n"
      ]
    },
    {
      "cell_type": "code",
      "execution_count": null,
      "metadata": {
        "colab": {
          "base_uri": "https://localhost:8080/"
        },
        "id": "HRdKCS2IcMA2",
        "outputId": "29c3325a-cc5a-4f12-d586-93b0e32d1f47"
      },
      "outputs": [
        {
          "output_type": "stream",
          "name": "stdout",
          "text": [
            "\u001b[1m\n",
            "Dataset Distribution:\n",
            "\u001b[0m\n",
            "\tSet Name \t\tSize\n",
            "\t========\t\t======\n",
            "\tFull\t\t\t 102626 \n",
            "\tTraining\t\t 73890 \n",
            "\tTest\t\t\t 10263 \n",
            "\tValidation\t\t 18473\n"
          ]
        }
      ],
      "source": [
        "X_train,X_valid,X_test,y_train,y_valid,y_test = dataset_split(dataset.cleaned,labels)\n"
      ]
    },
    {
      "cell_type": "code",
      "execution_count": null,
      "metadata": {
        "id": "VsGXVd_0cMA5"
      },
      "outputs": [],
      "source": [
        "vocab_size = 57000\n",
        "embedding_dim = 128\n",
        "max_length = 21\n",
        "trunc_type='post'\n",
        "padding_type='post'\n",
        "oov_tok = \"<OOV>\"\n",
        "\n",
        "def padded_headlines(original,encoded,padded):\n",
        "  '''\n",
        "  print the samples padded headlines\n",
        "  '''\n",
        "  print(color.BOLD+\"\\n\\t\\t\\t====== Encoded Sequences ======\"+color.END,\"\\n\")\n",
        "  print(original,\"\\n\",encoded)\n",
        "  print(color.BOLD+\"\\n\\t\\t\\t====== Paded Sequences ======\\n\"+color.END,original,\"\\n\",padded)"
      ]
    },
    {
      "cell_type": "code",
      "execution_count": null,
      "metadata": {
        "id": "lRQ7PhrDcMA7"
      },
      "outputs": [],
      "source": [
        "#Train Data Tokenization\n",
        "tokenizer = Tokenizer(num_words = vocab_size, oov_token=oov_tok)\n",
        "tokenizer.fit_on_texts(X_train)\n",
        "word_index = tokenizer.word_index\n",
        "train_sequences = tokenizer.texts_to_sequences(X_train)\n",
        "train_padded = pad_sequences(train_sequences, padding=padding_type, maxlen=max_length)"
      ]
    },
    {
      "cell_type": "code",
      "execution_count": null,
      "metadata": {
        "colab": {
          "base_uri": "https://localhost:8080/"
        },
        "id": "EDlX3zl9cMA8",
        "outputId": "6a1ad48f-c630-403b-d693-8bc1c35df80d"
      },
      "outputs": [
        {
          "output_type": "stream",
          "name": "stdout",
          "text": [
            "\u001b[1m\t\t\t====== Tokenizer Info ======\u001b[0m\n",
            "Words --> Counts:\n",
            "ও \t 3420\n",
            "নিয়ে \t 2955\n",
            "নতুন \t 2752\n",
            "মৃত্যু \t 2749\n",
            "না \t 2577\n",
            "করোনা \t 2416\n",
            "করোনায় \t 1728\n",
            "থেকে \t 1621\n",
            "নিহত \t 1603\n",
            "করে \t 1578\n",
            "\n",
            "Words --> Documents:\n",
            "ও \t 3397\n",
            "নিয়ে \t 2948\n",
            "মৃত্যু \t 2746\n",
            "নতুন \t 2729\n",
            "না \t 2524\n",
            "করোনা \t 2413\n",
            "করোনায় \t 1728\n",
            "থেকে \t 1620\n",
            "নিহত \t 1603\n",
            "করে \t 1569\n",
            "\n",
            "Words --> Index:\n",
            "মুলতানকে \t 39213\n",
            "কথামতো \t 39212\n",
            "আথিয়া \t 39211\n",
            "পরাবেন \t 39210\n",
            "প্রিয়ন্তি \t 39209\n",
            "কূটনীতিকরাও \t 39208\n",
            "গাছচাপায় \t 39207\n",
            "চাষাবাদে \t 39206\n",
            "রাসায়নিকনির্ভর \t 39205\n",
            "উরুগুয়ে \t 39204\n",
            "\n",
            "Total Documents --> 73890\n",
            "Found 39213 unique tokens\n"
          ]
        }
      ],
      "source": [
        "#============================== Tokenizer Info =================================\n",
        "(word_counts,word_docs,word_index,document_count) = (tokenizer.word_counts,\n",
        "                                                       tokenizer.word_docs,\n",
        "                                                       tokenizer.word_index,\n",
        "                                                       tokenizer.document_count)\n",
        "def tokenizer_info(mylist,bool):\n",
        "  ordered = sorted(mylist.items(), key= lambda item: item[1],reverse = bool)\n",
        "  for w,c in ordered[:10]:\n",
        "    print(w,\"\\t\",c)\n",
        "  #=============================== Print all the information =========================\n",
        "print(color.BOLD+\"\\t\\t\\t====== Tokenizer Info ======\"+color.END)\n",
        "print(\"Words --> Counts:\")\n",
        "tokenizer_info(word_counts,bool =True )\n",
        "print(\"\\nWords --> Documents:\")\n",
        "tokenizer_info(word_docs,bool =True )\n",
        "print(\"\\nWords --> Index:\")\n",
        "tokenizer_info(word_index,bool =True )\n",
        "print(\"\\nTotal Documents -->\",document_count)\n",
        "print(f\"Found {len(word_index)} unique tokens\")"
      ]
    },
    {
      "cell_type": "code",
      "execution_count": null,
      "metadata": {
        "colab": {
          "base_uri": "https://localhost:8080/"
        },
        "id": "XCMI2dmScMA-",
        "outputId": "98d38eed-510b-44b4-ad59-a29669b0dede"
      },
      "outputs": [
        {
          "output_type": "stream",
          "name": "stdout",
          "text": [
            "\u001b[1m\n",
            "\t\t\t====== Encoded Sequences ======\u001b[0m \n",
            "\n",
            "শেরপুরে কর্মহীন মানুষের মাঝে খাবার বিতরণ \n",
            " [46, 37, 111, 110, 18, 17, 7, 39]\n",
            "\u001b[1m\n",
            "\t\t\t====== Paded Sequences ======\n",
            "\u001b[0m শেরপুরে কর্মহীন মানুষের মাঝে খাবার বিতরণ \n",
            " [ 46  37 111 110  18  17   7  39   0   0   0   0   0   0   0   0   0   0\n",
            "   0   0   0]\n"
          ]
        }
      ],
      "source": [
        "padded_headlines(X_train[10],train_sequences[10],train_padded[10])\n"
      ]
    },
    {
      "cell_type": "code",
      "execution_count": null,
      "metadata": {
        "id": "s6OB7XQfcMBA"
      },
      "outputs": [],
      "source": [
        "validation_sequences = tokenizer.texts_to_sequences(X_valid)\n",
        "validation_padded = pad_sequences(validation_sequences, padding=padding_type , maxlen=max_length)\n",
        "#padded_headlines(X_valid[71695],validation_sequences[1],validation_padded[1])"
      ]
    },
    {
      "cell_type": "code",
      "execution_count": null,
      "metadata": {
        "colab": {
          "base_uri": "https://localhost:8080/"
        },
        "id": "oAsSg4y2cMBB",
        "outputId": "f90b9bc7-8ab0-4ef0-9408-11b3289301ef"
      },
      "outputs": [
        {
          "output_type": "execute_result",
          "data": {
            "text/plain": [
              "63818       গণত্রাণ বিতরণ কেন্দ্রে পরিণত তুরস্কে মসজিদগুলো\n",
              "58710                      অক্সিজেন দিন  আকুতি কেজরিওয়ালের\n",
              "14069               এবার বন্ধ হচ্ছে গুগল প্লে আর্টিস্ট হাব\n",
              "57333         ঘোষণা দিয়ে ২২ জনকে আক্রান্ত করলেন করোনা রোগী\n",
              "12585    অনিয়মের অভিযোগে চার হজ এজেন্সিকে কারণ দর্শানোর...\n",
              "                               ...                        \n",
              "69845    করোনায় ভারত ইংল্যান্ড খেলা হলে আগুন লাগিয়ে দেও...\n",
              "5107     ছোটবেলায় যেটার ভক্ত ছিলাম  এখন সেটার শুভেচ্ছা ...\n",
              "50482    চলচ্চিত্রে ক্যারিয়ারের ব্যাপারে নিশ্চিত ছিলেন ...\n",
              "95776              ঈদগাহে নয়  মসজিদেই হবে ঈদুল আজহার জামাত\n",
              "52566                আঁখি আলমগীরের গানের বাইরের জগৎটা যেমন\n",
              "Name: cleaned, Length: 10263, dtype: object"
            ]
          },
          "metadata": {},
          "execution_count": 42
        }
      ],
      "source": [
        "X_test"
      ]
    },
    {
      "cell_type": "code",
      "execution_count": null,
      "metadata": {
        "colab": {
          "base_uri": "https://localhost:8080/"
        },
        "id": "U6EKQjPZcMBE",
        "outputId": "8d7686fb-6311-449c-d09e-6b3bdf0fb2cb"
      },
      "outputs": [
        {
          "output_type": "stream",
          "name": "stdout",
          "text": [
            "\u001b[1m\n",
            "\t\t\t====== Encoded Sequences ======\u001b[0m \n",
            "\n",
            "ছোটবেলায় যেটার ভক্ত ছিলাম  এখন সেটার শুভেচ্ছা দূত   পরীমণি \n",
            " [427, 30890, 15477, 15478]\n",
            "\u001b[1m\n",
            "\t\t\t====== Paded Sequences ======\n",
            "\u001b[0m ছোটবেলায় যেটার ভক্ত ছিলাম  এখন সেটার শুভেচ্ছা দূত   পরীমণি \n",
            " [  427 30890 15477 15478     0     0     0     0     0     0     0     0\n",
            "     0     0     0     0     0     0     0     0     0]\n"
          ]
        }
      ],
      "source": [
        "# Test Data Tokenization\n",
        "test_sequences = tokenizer.texts_to_sequences(X_test)\n",
        "test_padded = pad_sequences(test_sequences, padding=padding_type , maxlen=max_length)\n",
        "padded_headlines(X_test[5107],test_sequences[100],test_padded[100])"
      ]
    },
    {
      "cell_type": "code",
      "execution_count": null,
      "metadata": {
        "id": "4LxedBtzcMBG"
      },
      "outputs": [],
      "source": [
        "# Labels Tokenization\n",
        "#label_tokenizer = Tokenizer()\n",
        "#label_tokenizer.fit_on_texts(dataset.category)\n",
        "\n",
        "train_label_seq = y_train\n",
        "valid_label_seq = y_valid\n",
        "testing_label_seq = y_test\n",
        "\n",
        "#print(train_label_seq.shape)\n",
        "#print(valid_label_seq.shape)\n",
        "#print(testing_label_seq.shape)"
      ]
    },
    {
      "cell_type": "code",
      "execution_count": null,
      "metadata": {
        "colab": {
          "base_uri": "https://localhost:8080/"
        },
        "id": "51Xv1qrMcMBI",
        "outputId": "c0a75915-10f4-4768-ab17-391a3f6ce579"
      },
      "outputs": [
        {
          "output_type": "stream",
          "name": "stdout",
          "text": [
            "Model: \"sequential\"\n",
            "_________________________________________________________________\n",
            " Layer (type)                Output Shape              Param #   \n",
            "=================================================================\n",
            " embedding (Embedding)       (None, 21, 128)           7296000   \n",
            "                                                                 \n",
            " bidirectional (Bidirectiona  (None, 128)              74496     \n",
            " l)                                                              \n",
            "                                                                 \n",
            " dense (Dense)               (None, 24)                3096      \n",
            "                                                                 \n",
            " flatten (Flatten)           (None, 24)                0         \n",
            "                                                                 \n",
            " dense_1 (Dense)             (None, 8)                 200       \n",
            "                                                                 \n",
            "=================================================================\n",
            "Total params: 7,373,792\n",
            "Trainable params: 7,373,792\n",
            "Non-trainable params: 0\n",
            "_________________________________________________________________\n"
          ]
        }
      ],
      "source": [
        "## gru model\n",
        "\n",
        "keras.backend.clear_session()\n",
        "accuracy_threshold = 0.97\n",
        "vocab_size = 57000\n",
        "embedding_dim = 128\n",
        "max_length = 21\n",
        "num_category = 8\n",
        "\n",
        "class myCallback(keras.callbacks.Callback):\n",
        "  def on_epoch_end(self, epoch, logs={}):\n",
        "      if(logs.get('accuracy')>accuracy_threshold):\n",
        "        print(\"\\nReached %2.2f%% accuracy so we will stop trianing\" % (accuracy_threshold*100))\n",
        "        self.model.stop_training = True\n",
        "\n",
        "acc_callback = myCallback()\n",
        "# Saved the Best Model\n",
        "filepath =\"Model.h5\"\n",
        "checkpoint = keras.callbacks.ModelCheckpoint(filepath, monitor='val_accuracy', verbose=2, save_best_only=True,\n",
        "                                             save_weights_only=False, mode='max')\n",
        "callback_list = [acc_callback, checkpoint]\n",
        "model = tf.keras.Sequential([\n",
        "    tf.keras.layers.Embedding(vocab_size, embedding_dim, input_length=max_length),\n",
        "    tf.keras.layers.Bidirectional(GRU(64,dropout=0.2)),\n",
        "    tf.keras.layers.Dense(24, activation='relu'),\n",
        "    tf.keras.layers.Flatten(),\n",
        "    tf.keras.layers.Dense(num_category, activation='softmax')\n",
        "])\n",
        "model.compile(loss='sparse_categorical_crossentropy',optimizer='adam',metrics=['accuracy'])\n",
        "model.summary()"
      ]
    },
    {
      "cell_type": "code",
      "execution_count": null,
      "metadata": {
        "colab": {
          "base_uri": "https://localhost:8080/"
        },
        "id": "4SPW6cAYcMBN",
        "outputId": "617f7dd9-a0c2-4091-bcc7-c0142c150f8b"
      },
      "outputs": [
        {
          "output_type": "stream",
          "name": "stdout",
          "text": [
            "Epoch 1/10\n",
            "2308/2310 [============================>.] - ETA: 0s - loss: 0.7254 - accuracy: 0.7566\n",
            "Epoch 1: val_accuracy improved from -inf to 0.84491, saving model to Model.h5\n",
            "2310/2310 [==============================] - 51s 20ms/step - loss: 0.7252 - accuracy: 0.7567 - val_loss: 0.4770 - val_accuracy: 0.8449\n",
            "Epoch 2/10\n",
            "2308/2310 [============================>.] - ETA: 0s - loss: 0.3013 - accuracy: 0.9017\n",
            "Epoch 2: val_accuracy improved from 0.84491 to 0.87349, saving model to Model.h5\n",
            "2310/2310 [==============================] - 46s 20ms/step - loss: 0.3013 - accuracy: 0.9017 - val_loss: 0.4004 - val_accuracy: 0.8735\n",
            "Epoch 3/10\n",
            "2310/2310 [==============================] - ETA: 0s - loss: 0.1511 - accuracy: 0.9511\n",
            "Epoch 3: val_accuracy improved from 0.87349 to 0.87447, saving model to Model.h5\n",
            "2310/2310 [==============================] - 51s 22ms/step - loss: 0.1511 - accuracy: 0.9511 - val_loss: 0.4376 - val_accuracy: 0.8745\n",
            "Epoch 4/10\n",
            "2308/2310 [============================>.] - ETA: 0s - loss: 0.0847 - accuracy: 0.9727\n",
            "Reached 97.00% accuracy so we will stop trianing\n",
            "\n",
            "Epoch 4: val_accuracy improved from 0.87447 to 0.87907, saving model to Model.h5\n",
            "2310/2310 [==============================] - 49s 21ms/step - loss: 0.0847 - accuracy: 0.9727 - val_loss: 0.4775 - val_accuracy: 0.8791\n"
          ]
        }
      ],
      "source": [
        "num_epochs = 10\n",
        "batch = 32\n",
        "history = model.fit(train_padded, train_label_seq,\n",
        "                    epochs=num_epochs,\n",
        "                    batch_size = batch,\n",
        "                    validation_data=(validation_padded, valid_label_seq),\n",
        "                    verbose=1,\n",
        "                    callbacks = callback_list)"
      ]
    },
    {
      "cell_type": "code",
      "execution_count": null,
      "metadata": {
        "id": "w383oEVCcMBP",
        "colab": {
          "base_uri": "https://localhost:8080/",
          "height": 518
        },
        "outputId": "9d3f3855-58d5-4731-d6ee-1e5fbb06e43f"
      },
      "outputs": [
        {
          "output_type": "display_data",
          "data": {
            "image/png": "[encoded data removed]",
            "text/plain": [
              "<Figure size 576x432 with 2 Axes>"
            ]
          },
          "metadata": {}
        }
      ],
      "source": [
        "from sklearn.metrics import classification_report, confusion_matrix\n",
        "# load the Saved model from directory\n",
        "## model.h5 - gru\n",
        "## model.h6 -lstm\n",
        "\n",
        "\n",
        "\n",
        "model = load_model(\"Model.h5\")\n",
        "\n",
        "predictions = model.predict(test_padded)\n",
        "y_pred = np.argmax(predictions, axis=1)\n",
        "\n",
        "cm = confusion_matrix(testing_label_seq, y_pred)\n",
        "\n",
        "# Transform to df for easier plotting\n",
        "cm_df = pd.DataFrame(cm,\n",
        "\n",
        "                     index = ['Editors' ,'IT' ,'International', 'National', 'Islam', 'Sports', 'Bangladesh', 'Entertainment'],\n",
        "                     columns = ['Editors' ,'IT' ,'International', 'National', 'Islam', 'Sports', 'Bangladesh', 'Entertainment'])\n",
        "\n",
        "plt.figure(figsize=(8,6))\n",
        "sns.heatmap(cm_df, annot=True,cmap=\"YlGnBu\", fmt='g')\n",
        "plt.title('GRU \\nAccuracy: {0:.2f}'.format(accuracy_score(testing_label_seq, y_pred)*100))\n",
        "\n",
        "\n",
        "plt.ylabel('True label')\n",
        "plt.xlabel('Predicted label')\n",
        "plt.xticks(rotation = 45)\n",
        "plt.yticks(rotation = 0)\n",
        "plt.show()"
      ]
    },
    {
      "cell_type": "code",
      "execution_count": null,
      "metadata": {
        "id": "vFbk3burcMBQ",
        "colab": {
          "base_uri": "https://localhost:8080/",
          "height": 394
        },
        "outputId": "1d2c916b-37f1-4547-9a09-4c269108d0f6"
      },
      "outputs": [
        {
          "output_type": "execute_result",
          "data": {
            "text/html": [
              "\n",
              "  <div id=\"df-d8776c60-a865-4733-a5d1-c91b13bb140d\">\n",
              "    <div class=\"colab-df-container\">\n",
              "      <div>\n",
              "<style scoped>\n",
              "    .dataframe tbody tr th:only-of-type {\n",
              "        vertical-align: middle;\n",
              "    }\n",
              "\n",
              "    .dataframe tbody tr th {\n",
              "        vertical-align: top;\n",
              "    }\n",
              "\n",
              "    .dataframe thead th {\n",
              "        text-align: right;\n",
              "    }\n",
              "</style>\n",
              "<table border=\"1\" class=\"dataframe\">\n",
              "  <thead>\n",
              "    <tr style=\"text-align: right;\">\n",
              "      <th></th>\n",
              "      <th>precision</th>\n",
              "      <th>recall</th>\n",
              "      <th>f1-score</th>\n",
              "      <th>support</th>\n",
              "    </tr>\n",
              "  </thead>\n",
              "  <tbody>\n",
              "    <tr>\n",
              "      <th>Editors</th>\n",
              "      <td>93.08</td>\n",
              "      <td>86.79</td>\n",
              "      <td>89.82</td>\n",
              "      <td>1892.000000</td>\n",
              "    </tr>\n",
              "    <tr>\n",
              "      <th>IT</th>\n",
              "      <td>52.90</td>\n",
              "      <td>49.32</td>\n",
              "      <td>51.05</td>\n",
              "      <td>148.000000</td>\n",
              "    </tr>\n",
              "    <tr>\n",
              "      <th>International</th>\n",
              "      <td>95.02</td>\n",
              "      <td>97.54</td>\n",
              "      <td>96.26</td>\n",
              "      <td>3328.000000</td>\n",
              "    </tr>\n",
              "    <tr>\n",
              "      <th>National</th>\n",
              "      <td>90.89</td>\n",
              "      <td>87.21</td>\n",
              "      <td>89.01</td>\n",
              "      <td>1751.000000</td>\n",
              "    </tr>\n",
              "    <tr>\n",
              "      <th>Islam</th>\n",
              "      <td>78.17</td>\n",
              "      <td>85.80</td>\n",
              "      <td>81.81</td>\n",
              "      <td>697.000000</td>\n",
              "    </tr>\n",
              "    <tr>\n",
              "      <th>Sports</th>\n",
              "      <td>80.08</td>\n",
              "      <td>80.08</td>\n",
              "      <td>80.08</td>\n",
              "      <td>241.000000</td>\n",
              "    </tr>\n",
              "    <tr>\n",
              "      <th>Bangladesh</th>\n",
              "      <td>67.53</td>\n",
              "      <td>73.92</td>\n",
              "      <td>70.58</td>\n",
              "      <td>1089.000000</td>\n",
              "    </tr>\n",
              "    <tr>\n",
              "      <th>Entertainment</th>\n",
              "      <td>88.38</td>\n",
              "      <td>84.42</td>\n",
              "      <td>86.36</td>\n",
              "      <td>1117.000000</td>\n",
              "    </tr>\n",
              "    <tr>\n",
              "      <th>accuracy</th>\n",
              "      <td>87.96</td>\n",
              "      <td>87.96</td>\n",
              "      <td>87.96</td>\n",
              "      <td>0.879567</td>\n",
              "    </tr>\n",
              "    <tr>\n",
              "      <th>macro avg</th>\n",
              "      <td>80.76</td>\n",
              "      <td>80.63</td>\n",
              "      <td>80.62</td>\n",
              "      <td>10263.000000</td>\n",
              "    </tr>\n",
              "    <tr>\n",
              "      <th>weighted avg</th>\n",
              "      <td>88.22</td>\n",
              "      <td>87.96</td>\n",
              "      <td>88.02</td>\n",
              "      <td>10263.000000</td>\n",
              "    </tr>\n",
              "  </tbody>\n",
              "</table>\n",
              "</div>\n",
              "      <button class=\"colab-df-convert\" onclick=\"convertToInteractive('df-d8776c60-a865-4733-a5d1-c91b13bb140d')\"\n",
              "              title=\"Convert this dataframe to an interactive table.\"\n",
              "              style=\"display:none;\">\n",
              "        \n",
              "  <svg xmlns=\"http://www.w3.org/2000/svg\" height=\"24px\"viewBox=\"0 0 24 24\"\n",
              "       width=\"24px\">\n",
              "    <path d=\"M0 0h24v24H0V0z\" fill=\"none\"/>\n",
              "    <path d=\"M18.56 5.44l.94 2.06.94-2.06 2.06-.94-2.06-.94-.94-2.06-.94 2.06-2.06.94zm-11 1L8.5 8.5l.94-2.06 2.06-.94-2.06-.94L8.5 2.5l-.94 2.06-2.06.94zm10 10l.94 2.06.94-2.06 2.06-.94-2.06-.94-.94-2.06-.94 2.06-2.06.94z\"/><path d=\"M17.41 7.96l-1.37-1.37c-.4-.4-.92-.59-1.43-.59-.52 0-1.04.2-1.43.59L10.3 9.45l-7.72 7.72c-.78.78-.78 2.05 0 2.83L4 21.41c.39.39.9.59 1.41.59.51 0 1.02-.2 1.41-.59l7.78-7.78 2.81-2.81c.8-.78.8-2.07 0-2.86zM5.41 20L4 18.59l7.72-7.72 1.47 1.35L5.41 20z\"/>\n",
              "  </svg>\n",
              "      </button>\n",
              "      \n",
              "  <style>\n",
              "    .colab-df-container {\n",
              "      display:flex;\n",
              "      flex-wrap:wrap;\n",
              "      gap: 12px;\n",
              "    }\n",
              "\n",
              "    .colab-df-convert {\n",
              "      background-color: #E8F0FE;\n",
              "      border: none;\n",
              "      border-radius: 50%;\n",
              "      cursor: pointer;\n",
              "      display: none;\n",
              "      fill: #1967D2;\n",
              "      height: 32px;\n",
              "      padding: 0 0 0 0;\n",
              "      width: 32px;\n",
              "    }\n",
              "\n",
              "    .colab-df-convert:hover {\n",
              "      background-color: #E2EBFA;\n",
              "      box-shadow: 0px 1px 2px rgba(60, 64, 67, 0.3), 0px 1px 3px 1px rgba(60, 64, 67, 0.15);\n",
              "      fill: #174EA6;\n",
              "    }\n",
              "\n",
              "    [theme=dark] .colab-df-convert {\n",
              "      background-color: #3B4455;\n",
              "      fill: #D2E3FC;\n",
              "    }\n",
              "\n",
              "    [theme=dark] .colab-df-convert:hover {\n",
              "      background-color: #434B5C;\n",
              "      box-shadow: 0px 1px 3px 1px rgba(0, 0, 0, 0.15);\n",
              "      filter: drop-shadow(0px 1px 2px rgba(0, 0, 0, 0.3));\n",
              "      fill: #FFFFFF;\n",
              "    }\n",
              "  </style>\n",
              "\n",
              "      <script>\n",
              "        const buttonEl =\n",
              "          document.querySelector('#df-d8776c60-a865-4733-a5d1-c91b13bb140d button.colab-df-convert');\n",
              "        buttonEl.style.display =\n",
              "          google.colab.kernel.accessAllowed ? 'block' : 'none';\n",
              "\n",
              "        async function convertToInteractive(key) {\n",
              "          const element = document.querySelector('#df-d8776c60-a865-4733-a5d1-c91b13bb140d');\n",
              "          const dataTable =\n",
              "            await google.colab.kernel.invokeFunction('convertToInteractive',\n",
              "                                                     [key], {});\n",
              "          if (!dataTable) return;\n",
              "\n",
              "          const docLinkHtml = 'Like what you see? Visit the ' +\n",
              "            '<a target=\"_blank\" href=https://colab.research.google.com/notebooks/data_table.ipynb>data table notebook</a>'\n",
              "            + ' to learn more about interactive tables.';\n",
              "          element.innerHTML = '';\n",
              "          dataTable['output_type'] = 'display_data';\n",
              "          await google.colab.output.renderOutput(dataTable, element);\n",
              "          const docLink = document.createElement('div');\n",
              "          docLink.innerHTML = docLinkHtml;\n",
              "          element.appendChild(docLink);\n",
              "        }\n",
              "      </script>\n",
              "    </div>\n",
              "  </div>\n",
              "  "
            ],
            "text/plain": [
              "               precision  recall  f1-score       support\n",
              "Editors            93.08   86.79     89.82   1892.000000\n",
              "IT                 52.90   49.32     51.05    148.000000\n",
              "International      95.02   97.54     96.26   3328.000000\n",
              "National           90.89   87.21     89.01   1751.000000\n",
              "Islam              78.17   85.80     81.81    697.000000\n",
              "Sports             80.08   80.08     80.08    241.000000\n",
              "Bangladesh         67.53   73.92     70.58   1089.000000\n",
              "Entertainment      88.38   84.42     86.36   1117.000000\n",
              "accuracy           87.96   87.96     87.96      0.879567\n",
              "macro avg          80.76   80.63     80.62  10263.000000\n",
              "weighted avg       88.22   87.96     88.02  10263.000000"
            ]
          },
          "metadata": {},
          "execution_count": 48
        }
      ],
      "source": [
        "report = pd.DataFrame(classification_report(y_true = testing_label_seq, y_pred = y_pred, output_dict=True)).transpose()\n",
        "report = report.rename(index={'0': 'Editors','1':'IT','2':'International','3':'National','4':'Islam','5':'Sports', '6':'Bangladesh', '7': 'Entertainment'})\n",
        "report[['precision','recall','f1-score']]=report[['precision','recall','f1-score']].apply(lambda x: round(x*100,2))\n",
        "report"
      ]
    }
  ],
  "metadata": {
    "colab": {
      "provenance": []
    },
    "kernelspec": {
      "display_name": "Python 3",
      "name": "python3"
    },
    "language_info": {
      "name": "python"
    },
    "accelerator": "GPU"
  },
  "nbformat": 4,
  "nbformat_minor": 0
}